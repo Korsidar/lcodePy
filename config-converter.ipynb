{
 "cells": [
  {
   "cell_type": "markdown",
   "metadata": {
    "Collapsed": "false"
   },
   "source": [
    "# Reading values from old lcode.cfg"
   ]
  },
  {
   "cell_type": "code",
   "execution_count": 1,
   "metadata": {
    "Collapsed": "false"
   },
   "outputs": [],
   "source": [
    "from lcode2dPy.config.default_config import default_config"
   ]
  },
  {
   "cell_type": "code",
   "execution_count": 2,
   "metadata": {
    "Collapsed": "false"
   },
   "outputs": [
    {
     "data": {
      "text/plain": [
       "{'geometry': 'c',\n",
       " 'processing-unit-type': 'cpu',\n",
       " 'window-width': '4.0',\n",
       " 'window-width-step-size': '0.05',\n",
       " 'window-length': '30.0',\n",
       " 'xi-step': '0.05',\n",
       " 'time-limit': '1.0',\n",
       " 'time-step': '1.0',\n",
       " 'continuation': 'n',\n",
       " 'plasma-particles-per-cell': '10.0',\n",
       " 'rigid-beam': 'n',\n",
       " 'beam-substepping-energy': '2.0',\n",
       " 'focusing': 'n',\n",
       " 'foc-period': '100.0',\n",
       " 'foc-strength': '0.01',\n",
       " 'plasma-model': 'P',\n",
       " 'magnetic-field': '0.0',\n",
       " 'magnetic-field-type': 'c',\n",
       " 'magnetic-field-period': '200.0',\n",
       " 'plasma-zshape': '',\n",
       " 'plasma-temperature': '0.0',\n",
       " 'ion-model': 'y',\n",
       " 'ion-mass': '157000.0',\n",
       " 'trapped-path-limit': '0.0',\n",
       " 'noise-reductor-enabled': 'y',\n",
       " 'plasma-profile': '1.0',\n",
       " 'plasma-width': '2.0',\n",
       " 'plasma-width-2': '1.0',\n",
       " 'plasma-density-2': '0.5',\n",
       " 'substepping-depth': '3.0',\n",
       " 'substepping-sensitivity': '0.2',\n",
       " 'field-solver-subtraction-trick': '1',\n",
       " 'field-solver-variant-A': 'True',\n",
       " 'reflect-padding-steps': '5',\n",
       " 'plasma-padding-steps': '10',\n",
       " 'corrector-steps': '2'}"
      ]
     },
     "execution_count": 2,
     "metadata": {},
     "output_type": "execute_result"
    }
   ],
   "source": [
    "config = default_config\n",
    "path = '/home/gorn/Active/CodesMerging/beam-gen/c-test/lcode.runas.cfg'\n",
    "config.update_from_c_config(path)\n",
    "config.config_values"
   ]
  },
  {
   "cell_type": "markdown",
   "metadata": {
    "Collapsed": "false"
   },
   "source": [
    "# Beam generation from C-style beam profile"
   ]
  },
  {
   "cell_type": "code",
   "execution_count": 3,
   "metadata": {
    "Collapsed": "false"
   },
   "outputs": [],
   "source": [
    "from lcode2dPy.beam_generator.beam_generator import make_beam_from_c_beam_profile"
   ]
  },
  {
   "cell_type": "code",
   "execution_count": 4,
   "metadata": {
    "Collapsed": "false"
   },
   "outputs": [
    {
     "data": {
      "text/plain": [
       "array([(-4.17119228e-07, 0.61896325, 1000.,  0.00918798, -0.00754985, 1., 0.01 ,    0),\n",
       "       (-2.53371466e-04, 0.50917106, 1000., -0.00993385,  0.00101496, 1., 0.01 ,    1),\n",
       "       (-4.61558146e-04, 1.50695356, 1000.,  0.00435568, -0.01496985, 1., 0.01 ,    2),\n",
       "       ...,\n",
       "       (-2.92432160e+00, 1.96291181, 1000.,  0.02650547, -0.009239  , 1., 0.005, 1988),\n",
       "       (-2.92924891e+00, 1.76281563, 1000., -0.01152487,  0.0236454 , 1., 0.005, 1989),\n",
       "       (-1.00000000e+05, 0.        ,    0.,  0.        ,  0.        , 1., 0.   ,    0)],\n",
       "      dtype=[('xi', '<f8'), ('r', '<f8'), ('p_z', '<f8'), ('p_r', '<f8'), ('M', '<f8'), ('q_m', '<f8'), ('q_norm', '<f8'), ('id', '<i8')])"
      ]
     },
     "execution_count": 4,
     "metadata": {},
     "output_type": "execute_result"
    }
   ],
   "source": [
    "config = default_config\n",
    "beam_profile = \"\"\"\n",
    "default: xishape=cos, ampl=1, length=2Pi, rshape=g, radius=1,\n",
    "angshape=l, angspread=1e-5, energy=1000, vshift=0, eshape=m, espread=0, m/q=1\n",
    "xishape=cos, length=1\"\"\"\n",
    "\n",
    "make_beam_from_c_beam_profile(config, beam_profile, 1)"
   ]
  },
  {
   "cell_type": "markdown",
   "metadata": {
    "Collapsed": "false"
   },
   "source": [
    "# Beam generation from C-style config"
   ]
  },
  {
   "cell_type": "code",
   "execution_count": 5,
   "metadata": {
    "Collapsed": "false"
   },
   "outputs": [],
   "source": [
    "import numpy as np"
   ]
  },
  {
   "cell_type": "code",
   "execution_count": 6,
   "metadata": {
    "Collapsed": "false"
   },
   "outputs": [],
   "source": [
    "from lcode2dPy.beam_generator.beam_generator import make_beam_from_c_config, particle_dtype2d"
   ]
  },
  {
   "cell_type": "code",
   "execution_count": 7,
   "metadata": {
    "Collapsed": "false"
   },
   "outputs": [],
   "source": [
    "path = '/home/gorn/Active/CodesMerging/beam-gen/c-test/beamfile.bin'\n",
    "beam_c = np.fromfile(path, dtype=particle_dtype2d)"
   ]
  },
  {
   "cell_type": "code",
   "execution_count": 8,
   "metadata": {
    "Collapsed": "false"
   },
   "outputs": [],
   "source": [
    "path = '/home/gorn/Active/CodesMerging/beam-gen/c-test/lcode.runas.cfg'\n",
    "beam_py = make_beam_from_c_config(config, path)"
   ]
  },
  {
   "cell_type": "code",
   "execution_count": 9,
   "metadata": {
    "Collapsed": "false"
   },
   "outputs": [],
   "source": [
    "import matplotlib.pyplot as plt"
   ]
  },
  {
   "cell_type": "code",
   "execution_count": 10,
   "metadata": {
    "Collapsed": "false"
   },
   "outputs": [
    {
     "data": {
      "image/png": "[encoded data removed]",
      "text/plain": [
       "<Figure size 432x288 with 1 Axes>"
      ]
     },
     "metadata": {
      "needs_background": "light"
     },
     "output_type": "display_data"
    }
   ],
   "source": [
    "par = 'xi'\n",
    "plt.hist(beam_c[par][:-1], 200, alpha=0.5);\n",
    "plt.hist(beam_py[par][:-1], 200, alpha=0.5);"
   ]
  },
  {
   "cell_type": "code",
   "execution_count": 11,
   "metadata": {
    "Collapsed": "false"
   },
   "outputs": [
    {
     "data": {
      "text/plain": [
       "True"
      ]
     },
     "execution_count": 11,
     "metadata": {},
     "output_type": "execute_result"
    }
   ],
   "source": [
    "beam_py[-1] == beam_c[-1]"
   ]
  },
  {
   "cell_type": "code",
   "execution_count": 12,
   "metadata": {
    "Collapsed": "false"
   },
   "outputs": [
    {
     "data": {
      "text/plain": [
       "True"
      ]
     },
     "execution_count": 12,
     "metadata": {},
     "output_type": "execute_result"
    }
   ],
   "source": [
    "beam_c['q_m'][0] == beam_py['q_m'][0]"
   ]
  },
  {
   "cell_type": "code",
   "execution_count": 13,
   "metadata": {
    "Collapsed": "false"
   },
   "outputs": [
    {
     "data": {
      "text/plain": [
       "True"
      ]
     },
     "execution_count": 13,
     "metadata": {},
     "output_type": "execute_result"
    }
   ],
   "source": [
    "beam_c['q_norm'][0] == beam_py['q_norm'][0]"
   ]
  },
  {
   "cell_type": "code",
   "execution_count": 14,
   "metadata": {
    "Collapsed": "false"
   },
   "outputs": [
    {
     "data": {
      "image/png": "[encoded data removed]",
      "text/plain": [
       "<Figure size 432x288 with 1 Axes>"
      ]
     },
     "metadata": {
      "needs_background": "light"
     },
     "output_type": "display_data"
    }
   ],
   "source": [
    "bins = np.linspace(0, 5, 200)\n",
    "plt.hist(beam_c['r'][:-1], bins, alpha=0.5);\n",
    "plt.hist(beam_py['r'][:-1], bins, alpha=0.5);"
   ]
  },
  {
   "cell_type": "code",
   "execution_count": 15,
   "metadata": {
    "Collapsed": "false"
   },
   "outputs": [
    {
     "data": {
      "image/png": "[encoded data removed]",
      "text/plain": [
       "<Figure size 432x288 with 1 Axes>"
      ]
     },
     "metadata": {
      "needs_background": "light"
     },
     "output_type": "display_data"
    }
   ],
   "source": [
    "plt.hist(beam_c['M'][:-1], 200, alpha=0.5);\n",
    "plt.hist(beam_py['M'][:-1], 200, alpha=0.5);"
   ]
  },
  {
   "cell_type": "code",
   "execution_count": 16,
   "metadata": {
    "Collapsed": "false"
   },
   "outputs": [
    {
     "data": {
      "image/png": "[encoded data removed]",
      "text/plain": [
       "<Figure size 432x288 with 1 Axes>"
      ]
     },
     "metadata": {
      "needs_background": "light"
     },
     "output_type": "display_data"
    }
   ],
   "source": [
    "plt.hist(beam_c['p_z'][:-1], 200, alpha=0.5);\n",
    "plt.hist(beam_py['p_z'][:-1], 200, alpha=0.5);"
   ]
  },
  {
   "cell_type": "markdown",
   "metadata": {},
   "source": [
    "# Simulation test"
   ]
  },
  {
   "cell_type": "code",
   "execution_count": 1,
   "metadata": {},
   "outputs": [],
   "source": [
    "from lcode2dPy.simulation.interface import Simulation\n",
    "from lcode2dPy.diagnostics.targets import BeamDiagnostics\n",
    "from lcode2dPy.config.default_config import default_config\n",
    "from lcode2dPy.beam_generator.beam_generator import make_beam_from_c_config\n",
    "import numpy as np\n",
    "import matplotlib.pyplot as plt"
   ]
  },
  {
   "cell_type": "code",
   "execution_count": 5,
   "metadata": {},
   "outputs": [],
   "source": [
    "path = '/home/gorn/Active/CodesMerging/beam-gen/c-test/lcode.cfg'\n",
    "config = default_config\n",
    "config.update_from_c_config(path)\n",
    "\n",
    "# Diagnostics\n",
    "diagnostics = [\n",
    "    BeamDiagnostics(config=config, period=1)\n",
    "]\n",
    "\n",
    "beam_pars = {\n",
    "    'path': path\n",
    "}\n",
    "\n",
    "sim = Simulation(config, make_beam_from_c_config, beam_pars, diagnostics)"
   ]
  },
  {
   "cell_type": "code",
   "execution_count": 6,
   "metadata": {},
   "outputs": [],
   "source": [
    "sim.step(1)"
   ]
  },
  {
   "cell_type": "code",
   "execution_count": 7,
   "metadata": {},
   "outputs": [
    {
     "data": {
      "image/png": "[encoded data removed]",
      "text/plain": [
       "<Figure size 756x540 with 1 Axes>"
      ]
     },
     "metadata": {
      "needs_background": "light"
     },
     "output_type": "display_data"
    }
   ],
   "source": [
    "time_limit = config.getfloat('time-limit')\n",
    "time_step = config.getfloat('time-step')\n",
    "data = diagnostics[0].data\n",
    "t = list(data.keys())[-1]\n",
    "beam = diagnostics[0].data[t]\n",
    "\n",
    "bins = 100\n",
    "py_hist = plt.hist2d(beam['xi'], beam['r'], bins=bins)[0]\n",
    "plt.title('PYTHON_CODE')\n",
    "\n",
    "fig = plt.gcf()\n",
    "fig.set_size_inches(10.5, 7.5)\n",
    "plt.plot();"
   ]
  },
  {
   "cell_type": "markdown",
   "metadata": {
    "Collapsed": "false"
   },
   "source": [
    "# Dev"
   ]
  },
  {
   "cell_type": "code",
   "execution_count": 1,
   "metadata": {
    "Collapsed": "false"
   },
   "outputs": [],
   "source": [
    "from lcode2dPy.config.default_config import default_config\n",
    "from lcode2dPy.config.config import find\n",
    "from lcode2dPy.beam_generator.beam_generator import make_beam\n",
    "from lcode2dPy.beam_generator.beam_profiles import SmoothDistr, StepwiseXiDistr\n",
    "from copy import copy\n",
    "import numpy as np\n",
    "from numpy import cos, exp, pi, sqrt\n",
    "from scipy import stats\n",
    "import re\n",
    "import pandas as pd\n",
    "import os"
   ]
  },
  {
   "cell_type": "code",
   "execution_count": 3,
   "metadata": {
    "Collapsed": "false"
   },
   "outputs": [],
   "source": [
    "def find_beam_profile_pars(cfg):\n",
    "    #WORD = '[a-z][a-z]*'\n",
    "    #FLOAT = '[-+]?(\\d+(\\.\\d*)?|\\.\\d+)([eE][-+]?\\d+)?'\n",
    "    ans = re.findall('([a-z][a-z]*/?[a-z]?)\\s?=\\s?([-+]?(\\d+(\\.\\d*)?|\\.\\d+)([eE][-+]?\\d+)?|[a-z][a-z]*)', cfg)\n",
    "    return ans\n",
    "\n",
    "def find_beam_profile(cfg):\n",
    "    ans = re.search('beam-profile\\s?=\\s?\"\"\"([^\\>]*)\"\"\"', cfg)\n",
    "    return ans.group(1)\n",
    "\n",
    "default_segment_pars = {'xi0': 0,\n",
    "                        'xishape': 'cos',\n",
    "                        'ampl': 0.5,\n",
    "                        'length': 2*np.pi,\n",
    "                        'rshape': 'g',\n",
    "                        'vshift': 0,\n",
    "                        'radius': 1,\n",
    "                        'angshape': 'l',\n",
    "                        'angspread': 1e-5,\n",
    "                        'energy': 1000,\n",
    "                        'vshift': 0,\n",
    "                        'eshape': 'm',\n",
    "                        'espread': 0,\n",
    "                        'm/q': 1}\n",
    "\n",
    "def split_into_segments(beam_profile_parsed):\n",
    "    xi_current = 0\n",
    "    segments = []\n",
    "    segment = None\n",
    "    for par in beam_profile_parsed:\n",
    "        par_name, par_value = par[:2]\n",
    "        if par_name == 'xishape':\n",
    "            if segment:\n",
    "                segments.append(segment)\n",
    "                xi_current = xi_current - float(segment['length'])\n",
    "            segment = copy(default_segment_pars)\n",
    "            segment['xi0'] = xi_current\n",
    "        if par_name.find('shape') > 0:\n",
    "            segment[par_name] = par_value\n",
    "        else:\n",
    "            segment[par_name] = float(par_value)\n",
    "    segments.append(segment)\n",
    "    return segments   \n",
    "\n",
    "def get_segments_from_c_config(path):  \n",
    "    with open(path, 'r') as file:\n",
    "        cfg = file.read()\n",
    "    beam_profile = find_beam_profile(cfg)\n",
    "    beam_profile_parsed = find_beam_profile_pars(beam_profile)\n",
    "    segments = split_into_segments(beam_profile_parsed)\n",
    "    return segments"
   ]
  },
  {
   "cell_type": "code",
   "execution_count": 4,
   "metadata": {
    "Collapsed": "false"
   },
   "outputs": [],
   "source": [
    "cosine = lambda x, med, L: 1./2 * (1. + np.cos(2. * np.pi * (x - med) / L))\n",
    "gauss = lambda x, med, sigma: np.exp(-(x-med)**2/2./sigma**2)\n",
    "\n",
    "xishape_to_distr = dict(\n",
    "    c = lambda xi0, length, amp: StepwiseXiDistr(lambda x: cosine(x, xi0, 2*length), xi0, xi0-length, xi0, amp),\n",
    "    cos = lambda xi0, length, amp: StepwiseXiDistr(lambda x: cosine(x, xi0, 2*length), xi0, xi0-length, xi0, amp),\n",
    ")\n",
    "rshape_to_distr = dict(\n",
    "    g = lambda radius: SmoothDistr(stats.weibull_min, 0, None, 2, 0, radius),\n",
    ")\n",
    "angshape_to_distr = dict(\n",
    "    g = lambda angspread: SmoothDistr(stats.norm, None, None, 0, angspread),\n",
    "    l = lambda angspread: SmoothDistr(stats.norm, None, None, 0, angspread), # TODO\n",
    ")\n",
    "eshape_to_distr = dict(\n",
    "    g = lambda erenergy, espread: SmoothDistr(stats.norm, None, None, erenergy, espread),\n",
    "    m = lambda erenergy, espread: SmoothDistr(stats.norm, None, None, erenergy, 1e-15),\n",
    ") \n",
    "\n",
    "def distrs_from_shapes(segment):\n",
    "    distrs = dict(\n",
    "        xi = xishape_to_distr[segment['xishape']](segment['xi0'], segment['length'], segment['ampl']),\n",
    "        r = rshape_to_distr[segment['rshape']](segment['radius']),\n",
    "        pz = eshape_to_distr[segment['eshape']](segment['energy'], segment['espread']),\n",
    "        pr = angshape_to_distr[segment['angshape']](segment['angspread']),\n",
    "        pf = angshape_to_distr[segment['angshape']](segment['angspread']),\n",
    "    )\n",
    "    return distrs"
   ]
  },
  {
   "cell_type": "code",
   "execution_count": 5,
   "metadata": {
    "Collapsed": "false"
   },
   "outputs": [],
   "source": [
    "def make_beam_from_c_config(path, partic_in_layer=None, savehead=False, saveto=False, name='beamfile.bin'):\n",
    "    if partic_in_layer is None:\n",
    "        with open(path, 'r') as file:\n",
    "            cfg = file.read()\n",
    "        partic_in_layer = find(cfg, 'beam-particles-in-layer')\n",
    "        partic_in_layer = int(partic_in_layer)\n",
    "    segments = get_segments_from_c_config(path)\n",
    "    beam = None\n",
    "    for i, segment in enumerate(segments):\n",
    "        new_beam = make_beam(config, distrs_from_shapes(segment), \n",
    "                             q_m=1/segment['m/q'], identifier=i, \n",
    "                             partic_in_layer=partic_in_layer)\n",
    "        if beam is None:\n",
    "            beam = new_beam\n",
    "        else:\n",
    "            beam = beam[:-1].append(new_beam, ignore_index=True)\n",
    "    beam.sort_values('xi', inplace=True, ascending=False)\n",
    "    \n",
    "    ##### saving data ######\n",
    "    head = beam[beam.eval('xi>0')]\n",
    "    beam = beam[beam.eval('xi<=0')]\n",
    "    if saveto:\n",
    "        beam.values.tofile(os.path.join(saveto, name))\n",
    "    if savehead:\n",
    "        head.values.tofile(os.path.join(saveto, 'head-' + name))\n",
    "    return beam"
   ]
  },
  {
   "cell_type": "code",
   "execution_count": 6,
   "metadata": {
    "Collapsed": "false"
   },
   "outputs": [
    {
     "data": {
      "text/html": [
       "<div>\n",
       "<style scoped>\n",
       "    .dataframe tbody tr th:only-of-type {\n",
       "        vertical-align: middle;\n",
       "    }\n",
       "\n",
       "    .dataframe tbody tr th {\n",
       "        vertical-align: top;\n",
       "    }\n",
       "\n",
       "    .dataframe thead th {\n",
       "        text-align: right;\n",
       "    }\n",
       "</style>\n",
       "<table border=\"1\" class=\"dataframe\">\n",
       "  <thead>\n",
       "    <tr style=\"text-align: right;\">\n",
       "      <th></th>\n",
       "      <th>xi</th>\n",
       "      <th>r</th>\n",
       "      <th>pz</th>\n",
       "      <th>pr</th>\n",
       "      <th>M</th>\n",
       "      <th>q_m</th>\n",
       "      <th>q</th>\n",
       "      <th>id</th>\n",
       "    </tr>\n",
       "  </thead>\n",
       "  <tbody>\n",
       "    <tr>\n",
       "      <td>0</td>\n",
       "      <td>-0.000335</td>\n",
       "      <td>1.084503</td>\n",
       "      <td>1000.0</td>\n",
       "      <td>-0.000004</td>\n",
       "      <td>2.697555e-07</td>\n",
       "      <td>1.0</td>\n",
       "      <td>0.010</td>\n",
       "      <td>0</td>\n",
       "    </tr>\n",
       "    <tr>\n",
       "      <td>1</td>\n",
       "      <td>-0.000353</td>\n",
       "      <td>1.133317</td>\n",
       "      <td>1000.0</td>\n",
       "      <td>-0.000005</td>\n",
       "      <td>-2.026643e-06</td>\n",
       "      <td>1.0</td>\n",
       "      <td>0.010</td>\n",
       "      <td>1</td>\n",
       "    </tr>\n",
       "    <tr>\n",
       "      <td>2</td>\n",
       "      <td>-0.000618</td>\n",
       "      <td>0.313655</td>\n",
       "      <td>1000.0</td>\n",
       "      <td>-0.000005</td>\n",
       "      <td>-5.910181e-07</td>\n",
       "      <td>1.0</td>\n",
       "      <td>0.010</td>\n",
       "      <td>2</td>\n",
       "    </tr>\n",
       "    <tr>\n",
       "      <td>3</td>\n",
       "      <td>-0.000890</td>\n",
       "      <td>1.992938</td>\n",
       "      <td>1000.0</td>\n",
       "      <td>-0.000032</td>\n",
       "      <td>-2.358334e-06</td>\n",
       "      <td>1.0</td>\n",
       "      <td>0.010</td>\n",
       "      <td>3</td>\n",
       "    </tr>\n",
       "    <tr>\n",
       "      <td>4</td>\n",
       "      <td>-0.001070</td>\n",
       "      <td>0.801534</td>\n",
       "      <td>1000.0</td>\n",
       "      <td>0.000012</td>\n",
       "      <td>-6.297531e-06</td>\n",
       "      <td>1.0</td>\n",
       "      <td>0.010</td>\n",
       "      <td>4</td>\n",
       "    </tr>\n",
       "    <tr>\n",
       "      <td>...</td>\n",
       "      <td>...</td>\n",
       "      <td>...</td>\n",
       "      <td>...</td>\n",
       "      <td>...</td>\n",
       "      <td>...</td>\n",
       "      <td>...</td>\n",
       "      <td>...</td>\n",
       "      <td>...</td>\n",
       "    </tr>\n",
       "    <tr>\n",
       "      <td>5966</td>\n",
       "      <td>-2.894226</td>\n",
       "      <td>0.260884</td>\n",
       "      <td>1000.0</td>\n",
       "      <td>0.000004</td>\n",
       "      <td>3.342870e-07</td>\n",
       "      <td>1.0</td>\n",
       "      <td>0.005</td>\n",
       "      <td>1000000001986</td>\n",
       "    </tr>\n",
       "    <tr>\n",
       "      <td>5967</td>\n",
       "      <td>-2.894381</td>\n",
       "      <td>0.482817</td>\n",
       "      <td>1000.0</td>\n",
       "      <td>0.000003</td>\n",
       "      <td>6.461324e-06</td>\n",
       "      <td>1.0</td>\n",
       "      <td>0.005</td>\n",
       "      <td>1000000001987</td>\n",
       "    </tr>\n",
       "    <tr>\n",
       "      <td>5968</td>\n",
       "      <td>-2.905454</td>\n",
       "      <td>0.370207</td>\n",
       "      <td>1000.0</td>\n",
       "      <td>-0.000003</td>\n",
       "      <td>-1.109346e-06</td>\n",
       "      <td>1.0</td>\n",
       "      <td>0.005</td>\n",
       "      <td>1000000001988</td>\n",
       "    </tr>\n",
       "    <tr>\n",
       "      <td>5969</td>\n",
       "      <td>-2.930551</td>\n",
       "      <td>0.661724</td>\n",
       "      <td>1000.0</td>\n",
       "      <td>-0.000003</td>\n",
       "      <td>-1.401698e-05</td>\n",
       "      <td>1.0</td>\n",
       "      <td>0.005</td>\n",
       "      <td>1000000001989</td>\n",
       "    </tr>\n",
       "    <tr>\n",
       "      <td>5970</td>\n",
       "      <td>-100000.000000</td>\n",
       "      <td>0.000000</td>\n",
       "      <td>0.0</td>\n",
       "      <td>0.000000</td>\n",
       "      <td>0.000000e+00</td>\n",
       "      <td>1.0</td>\n",
       "      <td>0.000</td>\n",
       "      <td>-1</td>\n",
       "    </tr>\n",
       "  </tbody>\n",
       "</table>\n",
       "<p>5971 rows × 8 columns</p>\n",
       "</div>"
      ],
      "text/plain": [
       "                 xi         r      pz        pr             M  q_m      q  \\\n",
       "0         -0.000335  1.084503  1000.0 -0.000004  2.697555e-07  1.0  0.010   \n",
       "1         -0.000353  1.133317  1000.0 -0.000005 -2.026643e-06  1.0  0.010   \n",
       "2         -0.000618  0.313655  1000.0 -0.000005 -5.910181e-07  1.0  0.010   \n",
       "3         -0.000890  1.992938  1000.0 -0.000032 -2.358334e-06  1.0  0.010   \n",
       "4         -0.001070  0.801534  1000.0  0.000012 -6.297531e-06  1.0  0.010   \n",
       "...             ...       ...     ...       ...           ...  ...    ...   \n",
       "5966      -2.894226  0.260884  1000.0  0.000004  3.342870e-07  1.0  0.005   \n",
       "5967      -2.894381  0.482817  1000.0  0.000003  6.461324e-06  1.0  0.005   \n",
       "5968      -2.905454  0.370207  1000.0 -0.000003 -1.109346e-06  1.0  0.005   \n",
       "5969      -2.930551  0.661724  1000.0 -0.000003 -1.401698e-05  1.0  0.005   \n",
       "5970 -100000.000000  0.000000     0.0  0.000000  0.000000e+00  1.0  0.000   \n",
       "\n",
       "                 id  \n",
       "0                 0  \n",
       "1                 1  \n",
       "2                 2  \n",
       "3                 3  \n",
       "4                 4  \n",
       "...             ...  \n",
       "5966  1000000001986  \n",
       "5967  1000000001987  \n",
       "5968  1000000001988  \n",
       "5969  1000000001989  \n",
       "5970             -1  \n",
       "\n",
       "[5971 rows x 8 columns]"
      ]
     },
     "execution_count": 6,
     "metadata": {},
     "output_type": "execute_result"
    }
   ],
   "source": [
    "path = '/home/gorn/work/Tests/lcode-test/lcode.runas.cfg'\n",
    "make_beam_from_c_config(path)"
   ]
  }
 ],
 "metadata": {
  "kernelspec": {
   "display_name": "Python 3.7.4 ('base')",
   "language": "python",
   "name": "python3"
  },
  "language_info": {
   "codemirror_mode": {
    "name": "ipython",
    "version": 3
   },
   "file_extension": ".py",
   "mimetype": "text/x-python",
   "name": "python",
   "nbconvert_exporter": "python",
   "pygments_lexer": "ipython3",
   "version": "3.7.4"
  },
  "vscode": {
   "interpreter": {
    "hash": "40d3a090f54c6569ab1632332b64b2c03c39dcf918b08424e98f38b5ae0af88f"
   }
  }
 },
 "nbformat": 4,
 "nbformat_minor": 4
}
