{
 "cells": [
  {
   "cell_type": "code",
   "execution_count": 1,
   "metadata": {
    "Collapsed": "false"
   },
   "outputs": [],
   "source": [
    "from lcode2dPy.push_solver import PusherAndSolver\n",
    "from lcode2dPy.beam.beam_slice import BeamSlice\n",
    "from lcode2dPy.beam.beam_io import MemoryBeamSource, MemoryBeamDrain\n",
    "#from lcode2dPy.push_solver_3d import PushAndSolver3d\n",
    "import numpy as np\n",
    "from lcode2dPy.config.default_config import default_config\n",
    "from lcode2dPy.beam.beam_generator import make_beam, Gauss, rGauss\n",
    "from lcode2dPy.plasma.initialization import init_plasma\n",
    "\n",
    "class Simulation:\n",
    "    def __init__(self, config=default_config, beam_generator=make_beam, beam_pars=None, diagnostics=None):\n",
    "        self.config = config\n",
    "        if config.get('geometry') == '3d':\n",
    "            pass\n",
    "#            self.push_solver = PushAndSolver3d(self.config) # 3d\n",
    "        elif config.get('geometry') == 'circ' or config.get('geometry') == 'c':\n",
    "            self.push_solver = PusherAndSolver(self.config) # circ\n",
    "        elif config.get('geometry') == 'plane':\n",
    "            self.push_solver = PusherAndSolver(self.config) # 2d_plane\n",
    "\n",
    "        self.beam_generator = beam_generator\n",
    "        self.beam_pars = beam_pars\n",
    "\n",
    "        self.current_time = 0.\n",
    "        self.beam_source = None\n",
    "        self.beam_drain = None\n",
    "        \n",
    "        self.diagnostics = diagnostics\n",
    "\n",
    "    def step(self, N_steps):\n",
    "        # t step function, makes N_steps time steps.\n",
    "        # Beam generation\n",
    "        if self.beam_source is None:\n",
    "            beam_particles = self.beam_generator(self.config, **self.beam_pars)\n",
    "            beam_particle_dtype = np.dtype([('xi', 'f8'), ('r', 'f8'), ('p_z', 'f8'), ('p_r', 'f8'), ('M', 'f8'), ('q_m', 'f8'),\n",
    "                               ('q_norm', 'f8'), ('id', 'i8')])\n",
    "            beam_particles = np.array(list(map(tuple, beam_particles.to_numpy())), dtype=beam_particle_dtype)\n",
    "\n",
    "            beam_slice = BeamSlice(beam_particles.size, beam_particles)\n",
    "            self.beam_source = MemoryBeamSource(beam_slice) #TODO mpi_beam_source\n",
    "            self.beam_drain = MemoryBeamDrain()\n",
    "        if self.diagnostics:\n",
    "            self.diagnostics.config = self.config\n",
    "        # Time loop\n",
    "        for t_i in range(N_steps):\n",
    "            fields, plasma_particles = init_plasma(self.config)\n",
    "            new_plasma_particles, new_fields = self.push_solver.step_dt(plasma_particles, fields, self.beam_source, self.beam_drain, self.current_time, self.diagnostics)\n",
    "            # Every t step diagnostics\n",
    "            if self.diagnostics:\n",
    "                self.diagnostics.every_dt()\n",
    "            self.current_time = self.current_time + (t_i + 1) * self.config.getfloat('time-step')\n",
    "\n",
    "\n",
    "\n",
    "class Diagnostics2d:\n",
    "    def __init__(self, dt_diag, dxi_diag):\n",
    "        self.config = None\n",
    "        self.dt_diag = dt_diag\n",
    "        self.dxi_diag = dxi_diag\n",
    "\n",
    "    def every_dt(self):\n",
    "        pass # TODO\n",
    "\n",
    "    def every_dxi(self, t, layer_idx, plasma_particles, plasma_fields, rho_beam, beam_slice):\n",
    "        for diag_name in self.dxi_diag.keys():\n",
    "            diag, pars = self.dxi_diag[diag_name]\n",
    "            diag(self, t, layer_idx, plasma_particles, plasma_fields, rho_beam, beam_slice, **pars)\n",
    "        return None"
   ]
  },
  {
   "cell_type": "code",
   "execution_count": 18,
   "metadata": {
    "Collapsed": "false"
   },
   "outputs": [],
   "source": [
    "# Example\n",
    "def E_z_diag(diagnostics, t, layer_idx, plasma_particles, plasma_fields, rho_beam, beam_slice, t_start, t_end, r_selected):\n",
    "    if t < t_start or t > t_end:\n",
    "        return\n",
    "    if layer_idx == 0:\n",
    "        diagnostics.Ez = []\n",
    "    r_grid_steps = plasma_fields.E_z.size\n",
    "    rs = np.linspace(0, diagnostics.config.getfloat('window-width'), r_grid_steps)\n",
    "    E_z_selected = plasma_fields.E_z[rs == r_selected][0]\n",
    "    diagnostics.Ez.append(E_z_selected)\n",
    "    return E_z_selected\n",
    "\n",
    "E_z_diag_pars = dict(t_start = 0,\n",
    "                     t_end = 10,\n",
    "                     r_selected = 0\n",
    "                    )\n",
    "\n",
    "dxi_diag = dict(E_z=[E_z_diag, E_z_diag_pars])\n",
    "\n",
    "diagnostics = Diagnostics2d(dt_diag=None, dxi_diag=dxi_diag)"
   ]
  },
  {
   "cell_type": "code",
   "execution_count": 19,
   "metadata": {
    "Collapsed": "false"
   },
   "outputs": [],
   "source": [
    "# Beam\n",
    "gamma = 426\n",
    "angspread = 1e-5\n",
    "m_proton = 958/0.51\n",
    "\n",
    "beam_pars = dict(xi_distr=Gauss(vmin=-10, vmax=0),\n",
    "                r_distr=rGauss(vmin=0, vmax=16),\n",
    "                ang_distr=Gauss(sigma=angspread, vmin=None, vmax=None),\n",
    "                pz_distr=Gauss(gamma*m_proton, gamma*m_proton*1e-4, vmin=None, vmax=None),\n",
    "                Ipeak_kA=-40/1000)\n",
    "\n",
    "sim = Simulation(beam_pars=beam_pars, diagnostics=diagnostics)"
   ]
  },
  {
   "cell_type": "code",
   "execution_count": 20,
   "metadata": {
    "Collapsed": "false"
   },
   "outputs": [
    {
     "name": "stdout",
     "output_type": "stream",
     "text": [
      "Number of particles: 10027\n",
      "Number of particles in the middle layer: 200\n"
     ]
    }
   ],
   "source": [
    "sim.step(1)"
   ]
  },
  {
   "cell_type": "code",
   "execution_count": 24,
   "metadata": {
    "Collapsed": "false"
   },
   "outputs": [
    {
     "data": {
      "text/plain": [
       "[<matplotlib.lines.Line2D at 0x7efbb357f350>]"
      ]
     },
     "execution_count": 24,
     "metadata": {},
     "output_type": "execute_result"
    },
    {
     "data": {
      "image/png": "[encoded data removed]",
      "text/plain": [
       "<Figure size 432x288 with 1 Axes>"
      ]
     },
     "metadata": {
      "needs_background": "light"
     },
     "output_type": "display_data"
    }
   ],
   "source": [
    "import matplotlib.pyplot as plt\n",
    "plt.plot(np.array(diagnostics.Ez))"
   ]
  },
  {
   "cell_type": "code",
   "execution_count": null,
   "metadata": {
    "Collapsed": "false"
   },
   "outputs": [],
   "source": []
  }
 ],
 "metadata": {
  "kernelspec": {
   "display_name": "Python 3",
   "language": "python",
   "name": "python3"
  },
  "language_info": {
   "codemirror_mode": {
    "name": "ipython",
    "version": 3
   },
   "file_extension": ".py",
   "mimetype": "text/x-python",
   "name": "python",
   "nbconvert_exporter": "python",
   "pygments_lexer": "ipython3",
   "version": "3.7.4"
  }
 },
 "nbformat": 4,
 "nbformat_minor": 4
}
