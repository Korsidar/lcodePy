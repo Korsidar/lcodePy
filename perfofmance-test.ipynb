{
 "cells": [
  {
   "cell_type": "code",
   "execution_count": 1,
   "metadata": {},
   "outputs": [],
   "source": [
    "from lcode2dPy.simulation.interface import Simulation\n",
    "from lcode2dPy.diagnostics.targets import BeamDiagnostics\n",
    "from lcode2dPy.config.default_config import default_config\n",
    "from lcode2dPy.beam_generator.beam_generator import make_beam_from_c_config\n",
    "import numpy as np\n",
    "import matplotlib.pyplot as plt"
   ]
  },
  {
   "cell_type": "code",
   "execution_count": 2,
   "metadata": {},
   "outputs": [],
   "source": [
    "path = '/home/gorn/Active/CodesMerging/beam-gen/c-test/lcode.cfg'\n",
    "config = default_config\n",
    "config.update_from_c_config(path)\n",
    "\n",
    "# Diagnostics\n",
    "diagnostics = [\n",
    "    BeamDiagnostics(config=config, period=1)\n",
    "]\n",
    "\n",
    "beam_pars = {\n",
    "    'path': path\n",
    "}\n",
    "\n",
    "sim = Simulation(config, make_beam_from_c_config, beam_pars, diagnostics)"
   ]
  },
  {
   "cell_type": "code",
   "execution_count": 3,
   "metadata": {},
   "outputs": [],
   "source": [
    "import cProfile\n",
    "import snakeviz"
   ]
  },
  {
   "cell_type": "code",
   "execution_count": 4,
   "metadata": {},
   "outputs": [],
   "source": [
    "profiler = cProfile.Profile()\n",
    "profiler.enable()\n",
    "\n",
    "sim.step(1)\n",
    "\n",
    "profiler.disable()\n",
    "profiler.dump_stats(\"performance.prof\")"
   ]
  }
 ],
 "metadata": {
  "kernelspec": {
   "display_name": "Python 3.9.13",
   "language": "python",
   "name": "python3"
  },
  "language_info": {
   "codemirror_mode": {
    "name": "ipython",
    "version": 3
   },
   "file_extension": ".py",
   "mimetype": "text/x-python",
   "name": "python",
   "nbconvert_exporter": "python",
   "pygments_lexer": "ipython3",
   "version": "3.9.13"
  },
  "orig_nbformat": 4,
  "vscode": {
   "interpreter": {
    "hash": "fc5af6ed1b645942352370863cb9d95ad3478a7f0c6f6788dd56d5bf7a2cd5e6"
   }
  }
 },
 "nbformat": 4,
 "nbformat_minor": 2
}
