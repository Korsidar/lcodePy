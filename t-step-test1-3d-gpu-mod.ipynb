{
 "cells": [
  {
   "cell_type": "markdown",
   "metadata": {},
   "source": [
    "### Test 1 for lcode 3d with a single time step and an alternative beam generator."
   ]
  },
  {
   "cell_type": "code",
   "execution_count": 1,
   "metadata": {},
   "outputs": [],
   "source": [
    "# Import required modules\n",
    "from copy import copy\n",
    "\n",
    "import numpy as np\n",
    "import time\n",
    "\n",
    "from lcode2dPy.plasma3d_gpu.initialization import init_plasma\n",
    "from lcode2dPy.push_solver_3d_gpu_mod import PushAndSolver3d\n",
    "\n",
    "from lcode2dPy.beam3d_gpu_mod import beam\n",
    "\n",
    "from lcode2dPy.config.default_config import default_config "
   ]
  },
  {
   "cell_type": "code",
   "execution_count": 2,
   "metadata": {},
   "outputs": [],
   "source": [
    "# Create a config\n",
    "config = copy(default_config)\n",
    "\n",
    "config.set('geometry', '3d')\n",
    "config.set('window-width-step-size', 0.02)\n",
    "config.set('window-width', 769*0.02)\n",
    "\n",
    "config.set('window-length', 0.5)\n",
    "config.set('xi-step', 0.02)\n",
    "\n",
    "config.set('time-limit', 200.5)\n",
    "config.set('time-step', 100)\n",
    "\n",
    "config.set('reflect-padding-steps', 10)\n",
    "config.set('plasma-padding-steps', 10)\n",
    "config.set('plasma-fineness', 2)\n",
    "\n",
    "# Make ready a pusher-solver\n",
    "pusher_solver = PushAndSolver3d(config)"
   ]
  },
  {
   "cell_type": "code",
   "execution_count": 3,
   "metadata": {},
   "outputs": [],
   "source": [
    "# Create a beam\n",
    "# from lcode2dPy.alt_beam_generator.beam_generator import generate_beam\n",
    "# from lcode2dPy.alt_beam_generator.beam_shape import BeamShape, BeamSegmentShape\n",
    "\n",
    "# beam_current = 0.01 * (2*np.pi) # WHY 2*np.pi???\n",
    "# beam_shape = BeamShape(0.01 * 2*np.pi, 2000)\n",
    "\n",
    "# beam_segment = BeamSegmentShape()\n",
    "# beam_shape.add_segment(beam_segment)\n",
    "\n",
    "# beam_particles = generate_beam(config, beam_shape)\n",
    "\n",
    "# np.savez_compressed('beamfile',\n",
    "#                     xi =     beam_particles['xi'],\n",
    "#                     x =      beam_particles['x'],\n",
    "#                     y =      beam_particles['y'],\n",
    "#                     px =     beam_particles['p_x'],\n",
    "#                     py =     beam_particles['p_y'],\n",
    "#                     pz =     beam_particles['p_z'],\n",
    "#                     q_m =    beam_particles['q_m'],\n",
    "#                     q_norm = beam_particles['q_norm'],\n",
    "#                     id =     beam_particles['id'])"
   ]
  },
  {
   "cell_type": "code",
   "execution_count": 4,
   "metadata": {},
   "outputs": [],
   "source": [
    "# Load the beam\n",
    "beam_particles = beam.BeamParticles(0)\n",
    "beam_particles.load('beamfile.npz')\n",
    "beam_source = beam.BeamSource(config, beam_particles)\n",
    "beam_drain  = beam.BeamDrain()"
   ]
  },
  {
   "cell_type": "code",
   "execution_count": 5,
   "metadata": {},
   "outputs": [
    {
     "name": "stderr",
     "output_type": "stream",
     "text": [
      "C:\\Users\\Ivan\\Anaconda3\\lib\\site-packages\\numba\\cuda\\cudadrv\\devicearray.py:790: NumbaPerformanceWarning: \u001b[1mHost array used in CUDA kernel will incur copy overhead to/from device.\u001b[0m\n",
      "  warn(NumbaPerformanceWarning(msg))\n",
      "c:\\Users\\Ivan\\Desktop\\Plasma\\lcode\\lcodePy_main_git\\lcodePy\\lcode2dPy\\plasma3d_gpu\\initialization.py:64: RuntimeWarning: divide by zero encountered in true_divide\n",
      "  mul = 1 / (lambda_i + lambda_j)  # WARNING: zero division in mul[0, 0]!\n"
     ]
    },
    {
     "name": "stdout",
     "output_type": "stream",
     "text": [
      "xi=+0.0000 +2.1691e-21\n"
     ]
    },
    {
     "name": "stderr",
     "output_type": "stream",
     "text": [
      "C:\\Users\\Ivan\\Anaconda3\\lib\\site-packages\\numba\\cuda\\compiler.py:865: NumbaPerformanceWarning: \u001b[1mGrid size (1) < 2 * SM count (12) will likely result in GPU under utilization due to low occupancy.\u001b[0m\n",
      "  warn(NumbaPerformanceWarning(msg))\n"
     ]
    },
    {
     "name": "stdout",
     "output_type": "stream",
     "text": [
      "xi=-0.0200 -6.3127e-07\n"
     ]
    },
    {
     "name": "stderr",
     "output_type": "stream",
     "text": [
      "C:\\Users\\Ivan\\Anaconda3\\lib\\site-packages\\numba\\cuda\\compiler.py:865: NumbaPerformanceWarning: \u001b[1mGrid size (1) < 2 * SM count (12) will likely result in GPU under utilization due to low occupancy.\u001b[0m\n",
      "  warn(NumbaPerformanceWarning(msg))\n"
     ]
    },
    {
     "name": "stdout",
     "output_type": "stream",
     "text": [
      "xi=-0.0400 -1.1664e-06\n"
     ]
    },
    {
     "name": "stderr",
     "output_type": "stream",
     "text": [
      "C:\\Users\\Ivan\\Anaconda3\\lib\\site-packages\\numba\\cuda\\compiler.py:865: NumbaPerformanceWarning: \u001b[1mGrid size (1) < 2 * SM count (12) will likely result in GPU under utilization due to low occupancy.\u001b[0m\n",
      "  warn(NumbaPerformanceWarning(msg))\n"
     ]
    },
    {
     "name": "stdout",
     "output_type": "stream",
     "text": [
      "xi=-0.0600 -2.5682e-06\n",
      "xi=-0.0800 -5.5575e-06\n"
     ]
    },
    {
     "name": "stderr",
     "output_type": "stream",
     "text": [
      "C:\\Users\\Ivan\\Anaconda3\\lib\\site-packages\\numba\\cuda\\compiler.py:865: NumbaPerformanceWarning: \u001b[1mGrid size (2) < 2 * SM count (12) will likely result in GPU under utilization due to low occupancy.\u001b[0m\n",
      "  warn(NumbaPerformanceWarning(msg))\n"
     ]
    },
    {
     "name": "stdout",
     "output_type": "stream",
     "text": [
      "xi=-0.1000 -9.2253e-06\n"
     ]
    },
    {
     "name": "stderr",
     "output_type": "stream",
     "text": [
      "C:\\Users\\Ivan\\Anaconda3\\lib\\site-packages\\numba\\cuda\\compiler.py:865: NumbaPerformanceWarning: \u001b[1mGrid size (3) < 2 * SM count (12) will likely result in GPU under utilization due to low occupancy.\u001b[0m\n",
      "  warn(NumbaPerformanceWarning(msg))\n"
     ]
    },
    {
     "name": "stdout",
     "output_type": "stream",
     "text": [
      "xi=-0.1200 -1.4549e-05\n",
      "xi=-0.1400 -2.1744e-05\n"
     ]
    },
    {
     "name": "stderr",
     "output_type": "stream",
     "text": [
      "C:\\Users\\Ivan\\Anaconda3\\lib\\site-packages\\numba\\cuda\\compiler.py:865: NumbaPerformanceWarning: \u001b[1mGrid size (4) < 2 * SM count (12) will likely result in GPU under utilization due to low occupancy.\u001b[0m\n",
      "  warn(NumbaPerformanceWarning(msg))\n"
     ]
    },
    {
     "name": "stdout",
     "output_type": "stream",
     "text": [
      "xi=-0.1600 -3.0916e-05\n"
     ]
    },
    {
     "name": "stderr",
     "output_type": "stream",
     "text": [
      "C:\\Users\\Ivan\\Anaconda3\\lib\\site-packages\\numba\\cuda\\compiler.py:865: NumbaPerformanceWarning: \u001b[1mGrid size (5) < 2 * SM count (12) will likely result in GPU under utilization due to low occupancy.\u001b[0m\n",
      "  warn(NumbaPerformanceWarning(msg))\n"
     ]
    },
    {
     "name": "stdout",
     "output_type": "stream",
     "text": [
      "xi=-0.1800 -4.1149e-05\n"
     ]
    },
    {
     "name": "stderr",
     "output_type": "stream",
     "text": [
      "C:\\Users\\Ivan\\Anaconda3\\lib\\site-packages\\numba\\cuda\\compiler.py:865: NumbaPerformanceWarning: \u001b[1mGrid size (6) < 2 * SM count (12) will likely result in GPU under utilization due to low occupancy.\u001b[0m\n",
      "  warn(NumbaPerformanceWarning(msg))\n"
     ]
    },
    {
     "name": "stdout",
     "output_type": "stream",
     "text": [
      "xi=-0.2000 -5.6637e-05\n"
     ]
    },
    {
     "name": "stderr",
     "output_type": "stream",
     "text": [
      "C:\\Users\\Ivan\\Anaconda3\\lib\\site-packages\\numba\\cuda\\compiler.py:865: NumbaPerformanceWarning: \u001b[1mGrid size (7) < 2 * SM count (12) will likely result in GPU under utilization due to low occupancy.\u001b[0m\n",
      "  warn(NumbaPerformanceWarning(msg))\n"
     ]
    },
    {
     "name": "stdout",
     "output_type": "stream",
     "text": [
      "xi=-0.2200 -7.4364e-05\n"
     ]
    },
    {
     "name": "stderr",
     "output_type": "stream",
     "text": [
      "C:\\Users\\Ivan\\Anaconda3\\lib\\site-packages\\numba\\cuda\\compiler.py:865: NumbaPerformanceWarning: \u001b[1mGrid size (8) < 2 * SM count (12) will likely result in GPU under utilization due to low occupancy.\u001b[0m\n",
      "  warn(NumbaPerformanceWarning(msg))\n"
     ]
    },
    {
     "name": "stdout",
     "output_type": "stream",
     "text": [
      "xi=-0.2400 -9.5003e-05\n"
     ]
    },
    {
     "name": "stderr",
     "output_type": "stream",
     "text": [
      "C:\\Users\\Ivan\\Anaconda3\\lib\\site-packages\\numba\\cuda\\compiler.py:865: NumbaPerformanceWarning: \u001b[1mGrid size (9) < 2 * SM count (12) will likely result in GPU under utilization due to low occupancy.\u001b[0m\n",
      "  warn(NumbaPerformanceWarning(msg))\n"
     ]
    },
    {
     "name": "stdout",
     "output_type": "stream",
     "text": [
      "xi=-0.2600 -1.1884e-04\n"
     ]
    },
    {
     "name": "stderr",
     "output_type": "stream",
     "text": [
      "C:\\Users\\Ivan\\Anaconda3\\lib\\site-packages\\numba\\cuda\\compiler.py:865: NumbaPerformanceWarning: \u001b[1mGrid size (11) < 2 * SM count (12) will likely result in GPU under utilization due to low occupancy.\u001b[0m\n",
      "  warn(NumbaPerformanceWarning(msg))\n"
     ]
    },
    {
     "name": "stdout",
     "output_type": "stream",
     "text": [
      "xi=-0.2800 -1.4614e-04\n",
      "xi=-0.3000 -1.8120e-04\n",
      "xi=-0.3200 -2.1480e-04\n",
      "xi=-0.3400 -2.5473e-04\n",
      "xi=-0.3600 -2.9855e-04\n",
      "xi=-0.3800 -3.4768e-04\n",
      "xi=-0.4000 -4.0466e-04\n",
      "xi=-0.4200 -4.6253e-04\n",
      "xi=-0.4400 -5.3160e-04\n",
      "xi=-0.4600 -6.0804e-04\n",
      "xi=-0.4800 -6.8844e-04\n",
      "xi=-0.5000 -7.7756e-04\n",
      "100.0\n"
     ]
    },
    {
     "name": "stderr",
     "output_type": "stream",
     "text": [
      "C:\\Users\\Ivan\\Anaconda3\\lib\\site-packages\\numba\\cuda\\cudadrv\\devicearray.py:790: NumbaPerformanceWarning: \u001b[1mHost array used in CUDA kernel will incur copy overhead to/from device.\u001b[0m\n",
      "  warn(NumbaPerformanceWarning(msg))\n",
      "c:\\Users\\Ivan\\Desktop\\Plasma\\lcode\\lcodePy_main_git\\lcodePy\\lcode2dPy\\plasma3d_gpu\\initialization.py:64: RuntimeWarning: divide by zero encountered in true_divide\n",
      "  mul = 1 / (lambda_i + lambda_j)  # WARNING: zero division in mul[0, 0]!\n"
     ]
    },
    {
     "name": "stdout",
     "output_type": "stream",
     "text": [
      "xi=+0.0000 -5.4407e-21\n",
      "xi=-0.0200 -6.3543e-07\n",
      "xi=-0.0400 -1.1717e-06\n",
      "xi=-0.0600 -2.5764e-06\n",
      "xi=-0.0800 -5.5747e-06\n",
      "xi=-0.1000 -9.2460e-06\n",
      "xi=-0.1200 -1.4576e-05\n",
      "xi=-0.1400 -2.1785e-05\n",
      "xi=-0.1600 -3.0975e-05\n",
      "xi=-0.1800 -4.1198e-05\n",
      "xi=-0.2000 -5.6723e-05\n",
      "xi=-0.2200 -7.4462e-05\n",
      "xi=-0.2400 -9.5083e-05\n",
      "xi=-0.2600 -1.1873e-04\n",
      "xi=-0.2800 -1.4605e-04\n",
      "xi=-0.3000 -1.8108e-04\n",
      "xi=-0.3200 -2.1470e-04\n",
      "xi=-0.3400 -2.5467e-04\n",
      "xi=-0.3600 -2.9842e-04\n",
      "xi=-0.3800 -3.4758e-04\n",
      "xi=-0.4000 -4.0451e-04\n",
      "xi=-0.4200 -4.6218e-04\n",
      "xi=-0.4400 -5.3118e-04\n",
      "xi=-0.4600 -6.0767e-04\n",
      "xi=-0.4800 -6.4473e-04\n",
      "xi=-0.5000 -6.4290e-04\n",
      "200.0\n",
      "--- 44.10827016830444 seconds ---\n"
     ]
    }
   ],
   "source": [
    "# Simulation loop\n",
    "start_time = time.time()\n",
    "time_limit = config.getfloat('time-limit')\n",
    "time_step_size = config.getfloat('time-step')\n",
    "time_steps = int(time_limit / time_step_size)\n",
    "\n",
    "\n",
    "for t_i in range(time_steps):\n",
    "    pl_fields, pl_particles, pl_currents, pl_const_arrays = init_plasma(config)\n",
    "\n",
    "    pusher_solver.step_dt(pl_fields, pl_particles, pl_currents, pl_const_arrays,\n",
    "                          beam_source, beam_drain)\n",
    "\n",
    "    # print(beam_drain.beam_buffer.size)\n",
    "    beam_source = beam.BeamSource(config, beam_drain.beam_buffer)\n",
    "\n",
    "    t = (t_i + 1) * time_step_size\n",
    "    print(t)\n",
    "    # beam_source.beam.save(f'beamfile_{t:+09.2f}_cpu.npz')\n",
    "\n",
    "print(\"--- %s seconds ---\" % (time.time() - start_time))"
   ]
  },
  {
   "cell_type": "code",
   "execution_count": 6,
   "metadata": {},
   "outputs": [],
   "source": [
    "# Should work correctly. Compare results with the test 1 result with a rigid beam:\n",
    "# xi         Ez_00\n",
    "# xi=+0.0000 +0.0000e+00\n",
    "# xi=+0.0200 -1.4490e-07\n",
    "# xi=+0.0400 -7.2443e-07\n",
    "# xi=+0.0600 -2.0278e-06\n",
    "# xi=+0.0800 -4.3436e-06\n",
    "# xi=+0.1000 -7.9592e-06\n",
    "# xi=+0.1200 -1.3161e-05\n",
    "# xi=+0.1400 -2.0233e-05\n",
    "# xi=+0.1600 -2.9458e-05\n",
    "# xi=+0.1800 -4.1116e-05\n",
    "# xi=+0.2000 -5.5486e-05\n",
    "# xi=+0.2200 -7.2842e-05\n",
    "# xi=+0.2400 -9.3456e-05\n",
    "# xi=+0.2600 -1.1760e-04\n",
    "# xi=+0.2800 -1.4553e-04\n",
    "# xi=+0.3000 -1.7751e-04\n",
    "# xi=+0.3200 -2.1381e-04\n",
    "# xi=+0.3400 -2.5467e-04\n",
    "# xi=+0.3600 -3.0033e-04\n",
    "# xi=+0.3800 -3.5105e-04\n",
    "# xi=+0.4000 -4.0706e-04\n",
    "# xi=+0.4200 -4.6859e-04\n",
    "# xi=+0.4400 -5.3587e-04\n",
    "# xi=+0.4600 -6.0912e-04\n",
    "# xi=+0.4800 -6.8855e-04\n",
    "# xi=+0.5000 -7.7437e-04"
   ]
  },
  {
   "cell_type": "code",
   "execution_count": null,
   "metadata": {},
   "outputs": [],
   "source": []
  }
 ],
 "metadata": {
  "kernelspec": {
   "display_name": "Python 3.7.3 64-bit ('base': conda)",
   "metadata": {
    "interpreter": {
     "hash": "a474bbcb62d5bd69b7c712fe2a75db8c753fe212225b6956b600dd32d27fa289"
    }
   },
   "name": "python3"
  },
  "language_info": {
   "codemirror_mode": {
    "name": "ipython",
    "version": 3
   },
   "file_extension": ".py",
   "mimetype": "text/x-python",
   "name": "python",
   "nbconvert_exporter": "python",
   "pygments_lexer": "ipython3",
   "version": "3.8.12"
  },
  "orig_nbformat": 2
 },
 "nbformat": 4,
 "nbformat_minor": 2
}
