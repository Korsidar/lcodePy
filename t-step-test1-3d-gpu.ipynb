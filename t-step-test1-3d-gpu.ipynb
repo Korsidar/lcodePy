{
 "cells": [
  {
   "cell_type": "markdown",
   "metadata": {},
   "source": [
    "### Test 1 for lcode 3d with a single time step and an alternative beam generator."
   ]
  },
  {
   "cell_type": "code",
   "execution_count": 1,
   "metadata": {},
   "outputs": [],
   "source": [
    "# Import required modules\n",
    "from copy import copy\n",
    "\n",
    "import numpy as np\n",
    "import time\n",
    "\n",
    "from lcode2dPy.plasma3d_gpu.initialization import init_plasma\n",
    "from lcode2dPy.push_solver_3d_gpu import PushAndSolver3d\n",
    "\n",
    "from lcode2dPy.beam3d_gpu import beam\n",
    "\n",
    "from lcode2dPy.config.default_config import default_config "
   ]
  },
  {
   "cell_type": "code",
   "execution_count": null,
   "metadata": {},
   "outputs": [],
   "source": [
    "# Create a config\n",
    "config = copy(default_config)\n",
    "\n",
    "config.set('geometry', '3d')\n",
    "config.set('window-width-step-size', 0.02)\n",
    "config.set('window-width', 769*0.02)\n",
    "\n",
    "config.set('window-length', 0.5)\n",
    "config.set('xi-step', 0.02)\n",
    "\n",
    "config.set('time-limit', 200.5)\n",
    "config.set('time-step', 100)\n",
    "\n",
    "config.set('reflect-padding-steps', 10)\n",
    "config.set('plasma-padding-steps', 10)\n",
    "config.set('plasma-fineness', 2)\n",
    "\n",
    "# Make ready a pusher-solver\n",
    "pusher_solver = PushAndSolver3d(config)"
   ]
  },
  {
   "cell_type": "code",
   "execution_count": null,
   "metadata": {},
   "outputs": [],
   "source": [
    "# Create a beam\n",
    "from lcode2dPy.alt_beam_generator.beam_generator import generate_beam\n",
    "from lcode2dPy.alt_beam_generator.beam_shape import BeamShape\n",
    "from lcode2dPy.alt_beam_generator.beam_segment_shape import BeamSegmentShape\n",
    "\n",
    "beam_current = 0.01 * (2*np.pi) # WHY 2*np.pi???\n",
    "beam_shape = BeamShape(0.01 * 2*np.pi, 2000)\n",
    "\n",
    "beam_segment = BeamSegmentShape()\n",
    "beam_shape.add_segment(beam_segment)"
   ]
  },
  {
   "cell_type": "code",
   "execution_count": null,
   "metadata": {},
   "outputs": [],
   "source": [
    "# Load the beam\n",
    "beam_particles = beam.BeamParticles(0)\n",
    "beam_particles.init_generated(generate_beam(config, beam_shape))\n",
    "beam_particles.save('beamfile.npz')\n",
    "beam_source = beam.BeamSource(config, beam_particles)\n",
    "beam_drain  = beam.BeamDrain()"
   ]
  },
  {
   "cell_type": "code",
   "execution_count": null,
   "metadata": {},
   "outputs": [],
   "source": [
    "# Simulation loop\n",
    "start_time = time.time()\n",
    "time_limit = config.getfloat('time-limit')\n",
    "time_step_size = config.getfloat('time-step')\n",
    "time_steps = int(time_limit / time_step_size)\n",
    "\n",
    "\n",
    "for t_i in range(time_steps):\n",
    "    pl_fields, pl_particles, pl_currents, pl_const_arrays = init_plasma(config)\n",
    "\n",
    "    pusher_solver.step_dt(pl_fields, pl_particles, pl_currents, pl_const_arrays,\n",
    "                          beam_source, beam_drain)\n",
    "\n",
    "    # print(beam_drain.beam_buffer.size)\n",
    "    beam_source = beam.BeamSource(config, beam_drain.beam_buffer)\n",
    "    beam_drain  = beam.BeamDrain()\n",
    "\n",
    "    t = (t_i + 1) * time_step_size\n",
    "    print(t)\n",
    "    # beam_source.beam.save(f'beamfile_{t:+09.2f}_cpu.npz')\n",
    "\n",
    "print(\"--- %s seconds ---\" % (time.time() - start_time))"
   ]
  },
  {
   "cell_type": "code",
   "execution_count": null,
   "metadata": {},
   "outputs": [],
   "source": [
    "# Should work correctly. Compare results with the test 1 result with a rigid beam:\n",
    "# xi         Ez_00\n",
    "# xi=+0.0000 +0.0000e+00\n",
    "# xi=+0.0200 -1.4490e-07\n",
    "# xi=+0.0400 -7.2443e-07\n",
    "# xi=+0.0600 -2.0278e-06\n",
    "# xi=+0.0800 -4.3436e-06\n",
    "# xi=+0.1000 -7.9592e-06\n",
    "# xi=+0.1200 -1.3161e-05\n",
    "# xi=+0.1400 -2.0233e-05\n",
    "# xi=+0.1600 -2.9458e-05\n",
    "# xi=+0.1800 -4.1116e-05\n",
    "# xi=+0.2000 -5.5486e-05\n",
    "# xi=+0.2200 -7.2842e-05\n",
    "# xi=+0.2400 -9.3456e-05\n",
    "# xi=+0.2600 -1.1760e-04\n",
    "# xi=+0.2800 -1.4553e-04\n",
    "# xi=+0.3000 -1.7751e-04\n",
    "# xi=+0.3200 -2.1381e-04\n",
    "# xi=+0.3400 -2.5467e-04\n",
    "# xi=+0.3600 -3.0033e-04\n",
    "# xi=+0.3800 -3.5105e-04\n",
    "# xi=+0.4000 -4.0706e-04\n",
    "# xi=+0.4200 -4.6859e-04\n",
    "# xi=+0.4400 -5.3587e-04\n",
    "# xi=+0.4600 -6.0912e-04\n",
    "# xi=+0.4800 -6.8855e-04\n",
    "# xi=+0.5000 -7.7437e-04"
   ]
  }
 ],
 "metadata": {
  "interpreter": {
   "hash": "f9b8210a67d4a5b974f0633f975e29130ba799535bb14bbb888dd93393bdb865"
  },
  "kernelspec": {
   "display_name": "Python 3.9.7 ('base')",
   "language": "python",
   "name": "python3"
  },
  "language_info": {
   "codemirror_mode": {
    "name": "ipython",
    "version": 3
   },
   "file_extension": ".py",
   "mimetype": "text/x-python",
   "name": "python",
   "nbconvert_exporter": "python",
   "pygments_lexer": "ipython3",
   "version": "3.9.7"
  },
  "orig_nbformat": 4
 },
 "nbformat": 4,
 "nbformat_minor": 2
}
