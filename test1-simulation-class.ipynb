{
 "cells": [
  {
   "attachments": {},
   "cell_type": "markdown",
   "metadata": {},
   "source": [
    "## LcodePy 3D"
   ]
  },
  {
   "cell_type": "code",
   "execution_count": 1,
   "metadata": {},
   "outputs": [],
   "source": [
    "import warnings\n",
    "warnings.filterwarnings('ignore', '.*Grid size.*', )"
   ]
  },
  {
   "cell_type": "code",
   "execution_count": 2,
   "metadata": {},
   "outputs": [],
   "source": [
    "# Import required modules\n",
    "from lcode2dPy.simulation import Simulation\n",
    "\n",
    "# Set some parameters of the config:\n",
    "config = {\n",
    "    'geometry': '3d',\n",
    "    'processing-unit-type': 'cpu',\n",
    "    \n",
    "    'window-width-step-size': 0.02,\n",
    "    'window-width': 16,\n",
    "\n",
    "    'window-length': 1,\n",
    "    'xi-step': 0.02,\n",
    "\n",
    "    'time-limit': 1,\n",
    "    'time-step': 1,\n",
    "\n",
    "    'plasma-particles-per-cell': 4,\n",
    "}\n",
    "\n",
    "# Set beam parameters\n",
    "from math import pi\n",
    "\n",
    "beam_parameters = {'current': 0.01 * (2*pi), 'particles_in_layer': 5000}\n",
    "\n",
    "# Set diagnostics\n",
    "diag = []"
   ]
  },
  {
   "cell_type": "code",
   "execution_count": 3,
   "metadata": {},
   "outputs": [],
   "source": [
    "sim = Simulation(config=config, diagnostics=diag,\n",
    "                 beam_parameters=beam_parameters)"
   ]
  },
  {
   "cell_type": "code",
   "execution_count": 4,
   "metadata": {},
   "outputs": [
    {
     "name": "stdout",
     "output_type": "stream",
     "text": [
      "Since the number of time steps hasn't been set explicitly, the code will simulate 1 time steps with a time step size = 1.0.\n"
     ]
    },
    {
     "name": "stderr",
     "output_type": "stream",
     "text": [
      "c:\\Users\\Ivan\\Desktop\\lcode3d\\lcodePy_combine\\lcodePy\\lcode2dPy\\plasma3d\\initialization.py:64: RuntimeWarning: divide by zero encountered in true_divide\n",
      "  mul = 1 / (lambda_i + lambda_j)  # WARNING: zero division in mul[0, 0]!\n"
     ]
    },
    {
     "name": "stdout",
     "output_type": "stream",
     "text": [
      "t=+1.0000, xi=+0.0000 Ez=-0.0000e+00\n",
      "t=+1.0000, xi=-0.0200 Ez=-1.6654e-07\n",
      "t=+1.0000, xi=-0.0400 Ez=-6.9133e-07\n",
      "t=+1.0000, xi=-0.0600 Ez=-1.8881e-06\n",
      "t=+1.0000, xi=-0.0800 Ez=-3.8212e-06\n",
      "t=+1.0000, xi=-0.1000 Ez=-6.9734e-06\n",
      "t=+1.0000, xi=-0.1200 Ez=-1.1324e-05\n",
      "t=+1.0000, xi=-0.1400 Ez=-1.7172e-05\n",
      "t=+1.0000, xi=-0.1600 Ez=-2.5405e-05\n",
      "t=+1.0000, xi=-0.1800 Ez=-3.5916e-05\n",
      "t=+1.0000, xi=-0.2000 Ez=-4.9668e-05\n",
      "t=+1.0000, xi=-0.2200 Ez=-6.6461e-05\n",
      "t=+1.0000, xi=-0.2400 Ez=-8.5572e-05\n",
      "t=+1.0000, xi=-0.2600 Ez=-1.0780e-04\n",
      "t=+1.0000, xi=-0.2800 Ez=-1.3341e-04\n",
      "t=+1.0000, xi=-0.3000 Ez=-1.6299e-04\n",
      "t=+1.0000, xi=-0.3200 Ez=-1.9766e-04\n",
      "t=+1.0000, xi=-0.3400 Ez=-2.3733e-04\n",
      "t=+1.0000, xi=-0.3600 Ez=-2.8144e-04\n",
      "t=+1.0000, xi=-0.3800 Ez=-3.3054e-04\n",
      "t=+1.0000, xi=-0.4000 Ez=-3.8515e-04\n",
      "t=+1.0000, xi=-0.4200 Ez=-4.4483e-04\n",
      "t=+1.0000, xi=-0.4400 Ez=-5.0857e-04\n",
      "t=+1.0000, xi=-0.4600 Ez=-5.7801e-04\n",
      "t=+1.0000, xi=-0.4800 Ez=-6.5499e-04\n",
      "t=+1.0000, xi=-0.5000 Ez=-7.3844e-04\n",
      "t=+1.0000, xi=-0.5200 Ez=-8.2838e-04\n",
      "t=+1.0000, xi=-0.5400 Ez=-9.2453e-04\n",
      "t=+1.0000, xi=-0.5600 Ez=-1.0278e-03\n",
      "t=+1.0000, xi=-0.5800 Ez=-1.1385e-03\n",
      "t=+1.0000, xi=-0.6000 Ez=-1.2544e-03\n",
      "t=+1.0000, xi=-0.6200 Ez=-1.3756e-03\n",
      "t=+1.0000, xi=-0.6400 Ez=-1.5068e-03\n",
      "t=+1.0000, xi=-0.6600 Ez=-1.6492e-03\n",
      "t=+1.0000, xi=-0.6800 Ez=-1.7988e-03\n",
      "t=+1.0000, xi=-0.7000 Ez=-1.9563e-03\n",
      "t=+1.0000, xi=-0.7200 Ez=-2.1210e-03\n",
      "t=+1.0000, xi=-0.7400 Ez=-2.2937e-03\n",
      "t=+1.0000, xi=-0.7600 Ez=-2.4745e-03\n",
      "t=+1.0000, xi=-0.7800 Ez=-2.6615e-03\n",
      "t=+1.0000, xi=-0.8000 Ez=-2.8578e-03\n",
      "t=+1.0000, xi=-0.8200 Ez=-3.0652e-03\n",
      "t=+1.0000, xi=-0.8400 Ez=-3.2814e-03\n",
      "t=+1.0000, xi=-0.8600 Ez=-3.5045e-03\n",
      "t=+1.0000, xi=-0.8800 Ez=-3.7375e-03\n",
      "t=+1.0000, xi=-0.9000 Ez=-3.9794e-03\n",
      "t=+1.0000, xi=-0.9200 Ez=-4.2258e-03\n",
      "t=+1.0000, xi=-0.9400 Ez=-4.4809e-03\n",
      "t=+1.0000, xi=-0.9600 Ez=-4.7473e-03\n",
      "t=+1.0000, xi=-0.9800 Ez=-5.0235e-03\n",
      "t=+1.0000, xi=-1.0000 Ez=-5.3121e-03\n",
      "The work is done!\n"
     ]
    }
   ],
   "source": [
    "sim.step()"
   ]
  },
  {
   "attachments": {},
   "cell_type": "markdown",
   "metadata": {},
   "source": [
    "## LcodePy 2D"
   ]
  },
  {
   "cell_type": "code",
   "execution_count": 1,
   "metadata": {},
   "outputs": [],
   "source": [
    "# Import required modules\n",
    "from lcode2dPy.simulation import Simulation\n",
    "\n",
    "# Set some parameters of the config:\n",
    "config = {\n",
    "    'geometry': '2d',\n",
    "    'processing-unit-type': 'cpu',\n",
    "    \n",
    "    'window-width-step-size': 0.02,\n",
    "    'window-width': 16,\n",
    "\n",
    "    'window-length': 1,\n",
    "    'xi-step': 0.02,\n",
    "\n",
    "    'time-limit': 1,\n",
    "    'time-step': 1,\n",
    "\n",
    "    'plasma-particles-per-cell': 4,\n",
    "}\n",
    "\n",
    "# Set beam parameters\n",
    "from math import pi\n",
    "\n",
    "beam_parameters = {'current': 0.01, 'particles_in_layer': 1000}\n",
    "\n",
    "# Set diagnostics\n",
    "diag = []"
   ]
  },
  {
   "cell_type": "code",
   "execution_count": 2,
   "metadata": {},
   "outputs": [],
   "source": [
    "sim = Simulation(config=config, diagnostics=diag,\n",
    "                 beam_parameters=beam_parameters)"
   ]
  },
  {
   "cell_type": "code",
   "execution_count": null,
   "metadata": {},
   "outputs": [],
   "source": [
    "sim.step()"
   ]
  },
  {
   "cell_type": "code",
   "execution_count": null,
   "metadata": {},
   "outputs": [],
   "source": []
  }
 ],
 "metadata": {
  "kernelspec": {
   "display_name": "base",
   "language": "python",
   "name": "python3"
  },
  "language_info": {
   "codemirror_mode": {
    "name": "ipython",
    "version": 3
   },
   "file_extension": ".py",
   "mimetype": "text/x-python",
   "name": "python",
   "nbconvert_exporter": "python",
   "pygments_lexer": "ipython3",
   "version": "3.9.12"
  },
  "orig_nbformat": 4,
  "vscode": {
   "interpreter": {
    "hash": "52f1a141aa8a7a23d41eee701d40af8218b46149495cf8dd4c4bd12bcb554499"
   }
  }
 },
 "nbformat": 4,
 "nbformat_minor": 2
}
